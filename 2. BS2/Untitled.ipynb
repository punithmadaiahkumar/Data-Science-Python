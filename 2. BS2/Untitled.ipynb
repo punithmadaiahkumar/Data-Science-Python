{
 "cells": [
  {
   "cell_type": "code",
   "execution_count": 1,
   "id": "recent-inspection",
   "metadata": {},
   "outputs": [],
   "source": [
    "import pandas as pd\n",
    "import numpy as np\n",
    "import matplotlib.pyplot as plt\n",
    "import seaborn as sns"
   ]
  },
  {
   "cell_type": "code",
   "execution_count": 2,
   "id": "divine-portrait",
   "metadata": {},
   "outputs": [],
   "source": [
    "data = pd.read_excel('ds.xlsx')"
   ]
  },
  {
   "cell_type": "code",
   "execution_count": 3,
   "id": "accepted-watson",
   "metadata": {},
   "outputs": [
    {
     "data": {
      "text/html": [
       "<div>\n",
       "<style scoped>\n",
       "    .dataframe tbody tr th:only-of-type {\n",
       "        vertical-align: middle;\n",
       "    }\n",
       "\n",
       "    .dataframe tbody tr th {\n",
       "        vertical-align: top;\n",
       "    }\n",
       "\n",
       "    .dataframe thead th {\n",
       "        text-align: right;\n",
       "    }\n",
       "</style>\n",
       "<table border=\"1\" class=\"dataframe\">\n",
       "  <thead>\n",
       "    <tr style=\"text-align: right;\">\n",
       "      <th></th>\n",
       "      <th>Name of company</th>\n",
       "      <th>Measure X</th>\n",
       "    </tr>\n",
       "  </thead>\n",
       "  <tbody>\n",
       "    <tr>\n",
       "      <th>0</th>\n",
       "      <td>Allied Signal</td>\n",
       "      <td>0.2423</td>\n",
       "    </tr>\n",
       "    <tr>\n",
       "      <th>1</th>\n",
       "      <td>Bankers Trust</td>\n",
       "      <td>0.2553</td>\n",
       "    </tr>\n",
       "    <tr>\n",
       "      <th>2</th>\n",
       "      <td>General Mills</td>\n",
       "      <td>0.2541</td>\n",
       "    </tr>\n",
       "    <tr>\n",
       "      <th>3</th>\n",
       "      <td>ITT Industries</td>\n",
       "      <td>0.2414</td>\n",
       "    </tr>\n",
       "    <tr>\n",
       "      <th>4</th>\n",
       "      <td>J.P.Morgan &amp; Co.</td>\n",
       "      <td>0.2962</td>\n",
       "    </tr>\n",
       "  </tbody>\n",
       "</table>\n",
       "</div>"
      ],
      "text/plain": [
       "    Name of company  Measure X\n",
       "0     Allied Signal     0.2423\n",
       "1     Bankers Trust     0.2553\n",
       "2     General Mills     0.2541\n",
       "3    ITT Industries     0.2414\n",
       "4  J.P.Morgan & Co.     0.2962"
      ]
     },
     "execution_count": 3,
     "metadata": {},
     "output_type": "execute_result"
    }
   ],
   "source": [
    "data.head()"
   ]
  },
  {
   "cell_type": "code",
   "execution_count": 4,
   "id": "upset-sharp",
   "metadata": {},
   "outputs": [
    {
     "data": {
      "text/plain": [
       "{'whiskers': [<matplotlib.lines.Line2D at 0x2815afa85b0>,\n",
       "  <matplotlib.lines.Line2D at 0x2815afa8880>],\n",
       " 'caps': [<matplotlib.lines.Line2D at 0x2815afa8c10>,\n",
       "  <matplotlib.lines.Line2D at 0x2815afa8fa0>],\n",
       " 'boxes': [<matplotlib.lines.Line2D at 0x2815afa8160>],\n",
       " 'medians': [<matplotlib.lines.Line2D at 0x2815cfb6370>],\n",
       " 'fliers': [<matplotlib.lines.Line2D at 0x2815cfb6700>],\n",
       " 'means': []}"
      ]
     },
     "execution_count": 4,
     "metadata": {},
     "output_type": "execute_result"
    },
    {
     "data": {
      "image/png": "[encoded data removed]",
      "text/plain": [
       "<Figure size 432x288 with 1 Axes>"
      ]
     },
     "metadata": {
      "needs_background": "light"
     },
     "output_type": "display_data"
    }
   ],
   "source": [
    "plt.boxplot(data['Measure X'],vert = True)"
   ]
  },
  {
   "cell_type": "code",
   "execution_count": 5,
   "id": "selective-warrior",
   "metadata": {},
   "outputs": [],
   "source": [
    "data1 = data['Measure X']*100"
   ]
  },
  {
   "cell_type": "code",
   "execution_count": 10,
   "id": "colored-water",
   "metadata": {},
   "outputs": [
    {
     "data": {
      "text/plain": [
       "{'whiskers': [<matplotlib.lines.Line2D at 0x2815da98850>,\n",
       "  <matplotlib.lines.Line2D at 0x2815da98c10>],\n",
       " 'caps': [<matplotlib.lines.Line2D at 0x2815da98fa0>,\n",
       "  <matplotlib.lines.Line2D at 0x2815d914370>],\n",
       " 'boxes': [<matplotlib.lines.Line2D at 0x2815da98550>],\n",
       " 'medians': [<matplotlib.lines.Line2D at 0x2815d914700>],\n",
       " 'fliers': [<matplotlib.lines.Line2D at 0x2815d914a90>],\n",
       " 'means': []}"
      ]
     },
     "execution_count": 10,
     "metadata": {},
     "output_type": "execute_result"
    },
    {
     "data": {
      "image/png": "[encoded data removed]",
      "text/plain": [
       "<Figure size 1080x360 with 1 Axes>"
      ]
     },
     "metadata": {
      "needs_background": "light"
     },
     "output_type": "display_data"
    }
   ],
   "source": [
    "plt.figure(figsize=(15,5))\n",
    "plt.boxplot(data1,vert = False)"
   ]
  },
  {
   "cell_type": "code",
   "execution_count": 19,
   "id": "smoking-bradley",
   "metadata": {},
   "outputs": [
    {
     "data": {
      "text/plain": [
       "count    15.000000\n",
       "mean     33.271333\n",
       "std      16.945401\n",
       "min      24.140000\n",
       "25%      25.470000\n",
       "50%      26.710000\n",
       "75%      33.975000\n",
       "max      91.360000\n",
       "Name: Measure X, dtype: float64"
      ]
     },
     "execution_count": 19,
     "metadata": {},
     "output_type": "execute_result"
    }
   ],
   "source": [
    "data1.describe()"
   ]
  },
  {
   "cell_type": "code",
   "execution_count": 20,
   "id": "creative-bulgaria",
   "metadata": {},
   "outputs": [
    {
     "data": {
      "text/plain": [
       "287.1466123809524"
      ]
     },
     "execution_count": 20,
     "metadata": {},
     "output_type": "execute_result"
    }
   ],
   "source": [
    "data1.var()"
   ]
  },
  {
   "cell_type": "code",
   "execution_count": 21,
   "id": "accessory-thompson",
   "metadata": {},
   "outputs": [
    {
     "data": {
      "text/plain": [
       "16.945400921222028"
      ]
     },
     "execution_count": 21,
     "metadata": {},
     "output_type": "execute_result"
    }
   ],
   "source": [
    "data1.std()"
   ]
  },
  {
   "cell_type": "code",
   "execution_count": 22,
   "id": "medieval-acting",
   "metadata": {},
   "outputs": [
    {
     "data": {
      "text/plain": [
       "287.14658116"
      ]
     },
     "execution_count": 22,
     "metadata": {},
     "output_type": "execute_result"
    }
   ],
   "source": [
    "16.9454**2"
   ]
  },
  {
   "cell_type": "code",
   "execution_count": null,
   "id": "ultimate-taiwan",
   "metadata": {},
   "outputs": [],
   "source": []
  }
 ],
 "metadata": {
  "kernelspec": {
   "display_name": "Python 3",
   "language": "python",
   "name": "python3"
  },
  "language_info": {
   "codemirror_mode": {
    "name": "ipython",
    "version": 3
   },
   "file_extension": ".py",
   "mimetype": "text/x-python",
   "name": "python",
   "nbconvert_exporter": "python",
   "pygments_lexer": "ipython3",
   "version": "3.8.8"
  }
 },
 "nbformat": 4,
 "nbformat_minor": 5
}
