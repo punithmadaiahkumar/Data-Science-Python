{
 "cells": [
  {
   "cell_type": "markdown",
   "metadata": {},
   "source": [
    "# Hierarchical Clustering - Crime Data"
   ]
  },
  {
   "cell_type": "code",
   "execution_count": 1,
   "metadata": {},
   "outputs": [],
   "source": [
    "#import modules\n",
    "import pandas as pd\n",
    "import numpy as np\n",
    "import matplotlib.pylab as plt"
   ]
  },
  {
   "cell_type": "code",
   "execution_count": 3,
   "metadata": {},
   "outputs": [
    {
     "data": {
      "text/html": [
       "<div>\n",
       "<style scoped>\n",
       "    .dataframe tbody tr th:only-of-type {\n",
       "        vertical-align: middle;\n",
       "    }\n",
       "\n",
       "    .dataframe tbody tr th {\n",
       "        vertical-align: top;\n",
       "    }\n",
       "\n",
       "    .dataframe thead th {\n",
       "        text-align: right;\n",
       "    }\n",
       "</style>\n",
       "<table border=\"1\" class=\"dataframe\">\n",
       "  <thead>\n",
       "    <tr style=\"text-align: right;\">\n",
       "      <th></th>\n",
       "      <th>Unnamed: 0</th>\n",
       "      <th>Murder</th>\n",
       "      <th>Assault</th>\n",
       "      <th>UrbanPop</th>\n",
       "      <th>Rape</th>\n",
       "    </tr>\n",
       "  </thead>\n",
       "  <tbody>\n",
       "    <tr>\n",
       "      <th>0</th>\n",
       "      <td>Alabama</td>\n",
       "      <td>13.2</td>\n",
       "      <td>236</td>\n",
       "      <td>58</td>\n",
       "      <td>21.2</td>\n",
       "    </tr>\n",
       "    <tr>\n",
       "      <th>1</th>\n",
       "      <td>Alaska</td>\n",
       "      <td>10.0</td>\n",
       "      <td>263</td>\n",
       "      <td>48</td>\n",
       "      <td>44.5</td>\n",
       "    </tr>\n",
       "    <tr>\n",
       "      <th>2</th>\n",
       "      <td>Arizona</td>\n",
       "      <td>8.1</td>\n",
       "      <td>294</td>\n",
       "      <td>80</td>\n",
       "      <td>31.0</td>\n",
       "    </tr>\n",
       "    <tr>\n",
       "      <th>3</th>\n",
       "      <td>Arkansas</td>\n",
       "      <td>8.8</td>\n",
       "      <td>190</td>\n",
       "      <td>50</td>\n",
       "      <td>19.5</td>\n",
       "    </tr>\n",
       "    <tr>\n",
       "      <th>4</th>\n",
       "      <td>California</td>\n",
       "      <td>9.0</td>\n",
       "      <td>276</td>\n",
       "      <td>91</td>\n",
       "      <td>40.6</td>\n",
       "    </tr>\n",
       "  </tbody>\n",
       "</table>\n",
       "</div>"
      ],
      "text/plain": [
       "   Unnamed: 0  Murder  Assault  UrbanPop  Rape\n",
       "0     Alabama    13.2      236        58  21.2\n",
       "1      Alaska    10.0      263        48  44.5\n",
       "2     Arizona     8.1      294        80  31.0\n",
       "3    Arkansas     8.8      190        50  19.5\n",
       "4  California     9.0      276        91  40.6"
      ]
     },
     "execution_count": 3,
     "metadata": {},
     "output_type": "execute_result"
    }
   ],
   "source": [
    "#load data and view it\n",
    "crime = crime = pd.read_csv(\"crime_data.csv\")\n",
    "crime.head()"
   ]
  },
  {
   "cell_type": "code",
   "execution_count": 10,
   "metadata": {},
   "outputs": [
    {
     "data": {
      "text/plain": [
       "Unnamed: 0     object\n",
       "Murder        float64\n",
       "Assault         int64\n",
       "UrbanPop        int64\n",
       "Rape          float64\n",
       "dtype: object"
      ]
     },
     "execution_count": 10,
     "metadata": {},
     "output_type": "execute_result"
    }
   ],
   "source": [
    "crime.dtypes"
   ]
  },
  {
   "cell_type": "markdown",
   "metadata": {},
   "source": [
    "### Min Max"
   ]
  },
  {
   "cell_type": "code",
   "execution_count": 4,
   "metadata": {},
   "outputs": [],
   "source": [
    "#importing MinMax module\n",
    "from sklearn.preprocessing import MinMaxScaler"
   ]
  },
  {
   "cell_type": "code",
   "execution_count": 11,
   "metadata": {},
   "outputs": [],
   "source": [
    "#delifining data with ilocator indexing\n",
    "data = crime.iloc[:,1:5]"
   ]
  },
  {
   "cell_type": "code",
   "execution_count": 12,
   "metadata": {},
   "outputs": [],
   "source": [
    "#calling MinMax Scalear for norm\n",
    "norm = MinMaxScaler()"
   ]
  },
  {
   "cell_type": "code",
   "execution_count": 13,
   "metadata": {},
   "outputs": [
    {
     "data": {
      "text/plain": [
       "MinMaxScaler()"
      ]
     },
     "execution_count": 13,
     "metadata": {},
     "output_type": "execute_result"
    }
   ],
   "source": [
    "#fitting data\n",
    "norm.fit(data)"
   ]
  },
  {
   "cell_type": "code",
   "execution_count": 14,
   "metadata": {},
   "outputs": [
    {
     "name": "stdout",
     "output_type": "stream",
     "text": [
      "[[0.74698795 0.65410959 0.44067797 0.35917313]\n",
      " [0.55421687 0.74657534 0.27118644 0.96124031]\n",
      " [0.43975904 0.85273973 0.81355932 0.6124031 ]\n",
      " [0.48192771 0.49657534 0.30508475 0.31524548]\n",
      " [0.4939759  0.79109589 1.         0.86046512]\n",
      " [0.42771084 0.54452055 0.77966102 0.81136951]\n",
      " [0.15060241 0.22260274 0.76271186 0.09819121]\n",
      " [0.30722892 0.6609589  0.6779661  0.21963824]\n",
      " [0.87951807 0.99315068 0.81355932 0.63565891]\n",
      " [1.         0.56849315 0.47457627 0.47803618]\n",
      " [0.27108434 0.00342466 0.86440678 0.33333333]\n",
      " [0.10843373 0.25684932 0.37288136 0.17829457]\n",
      " [0.57831325 0.69863014 0.86440678 0.43152455]\n",
      " [0.38554217 0.23287671 0.55932203 0.35400517]\n",
      " [0.08433735 0.03767123 0.42372881 0.10335917]\n",
      " [0.31325301 0.23972603 0.57627119 0.27648579]\n",
      " [0.53614458 0.21917808 0.33898305 0.23255814]\n",
      " [0.87951807 0.69863014 0.57627119 0.38501292]\n",
      " [0.07831325 0.13013699 0.3220339  0.0129199 ]\n",
      " [0.63253012 0.87328767 0.59322034 0.52971576]\n",
      " [0.21686747 0.35616438 0.89830508 0.23255814]\n",
      " [0.68072289 0.71917808 0.71186441 0.71834625]\n",
      " [0.11445783 0.09246575 0.57627119 0.19638243]\n",
      " [0.92168675 0.73287671 0.20338983 0.25322997]\n",
      " [0.4939759  0.45547945 0.6440678  0.54005168]\n",
      " [0.31325301 0.21917808 0.3559322  0.23514212]\n",
      " [0.21084337 0.19520548 0.50847458 0.2377261 ]\n",
      " [0.68674699 0.70890411 0.83050847 1.        ]\n",
      " [0.07831325 0.04109589 0.40677966 0.05684755]\n",
      " [0.39759036 0.39041096 0.96610169 0.29715762]\n",
      " [0.63855422 0.82191781 0.6440678  0.64082687]\n",
      " [0.62048193 0.71575342 0.91525424 0.48578811]\n",
      " [0.73493976 1.         0.22033898 0.22739018]\n",
      " [0.         0.         0.20338983 0.        ]\n",
      " [0.39156627 0.25684932 0.72881356 0.36434109]\n",
      " [0.34939759 0.3630137  0.61016949 0.32816537]\n",
      " [0.24698795 0.39041096 0.59322034 0.56847545]\n",
      " [0.3313253  0.20890411 0.6779661  0.19638243]\n",
      " [0.15662651 0.44178082 0.93220339 0.02583979]\n",
      " [0.81927711 0.80136986 0.27118644 0.39276486]\n",
      " [0.18072289 0.14041096 0.22033898 0.14211886]\n",
      " [0.74698795 0.48972603 0.45762712 0.50645995]\n",
      " [0.71686747 0.53424658 0.81355932 0.47028424]\n",
      " [0.14457831 0.25684932 0.81355932 0.40310078]\n",
      " [0.08433735 0.01027397 0.         0.10077519]\n",
      " [0.46385542 0.38013699 0.52542373 0.34625323]\n",
      " [0.19277108 0.34246575 0.69491525 0.48837209]\n",
      " [0.29518072 0.12328767 0.11864407 0.05167959]\n",
      " [0.10843373 0.02739726 0.57627119 0.09043928]\n",
      " [0.36144578 0.39726027 0.47457627 0.21447028]]\n"
     ]
    }
   ],
   "source": [
    "#Transforming data\n",
    "norm_data = norm.transform(data)\n",
    "print(norm_data)"
   ]
  },
  {
   "cell_type": "code",
   "execution_count": 15,
   "metadata": {},
   "outputs": [
    {
     "data": {
      "text/plain": [
       "numpy.ndarray"
      ]
     },
     "execution_count": 15,
     "metadata": {},
     "output_type": "execute_result"
    }
   ],
   "source": [
    "#type\n",
    "type(norm_data)"
   ]
  },
  {
   "cell_type": "markdown",
   "metadata": {},
   "source": [
    "### Hierarchical Clustering"
   ]
  },
  {
   "cell_type": "code",
   "execution_count": 16,
   "metadata": {},
   "outputs": [],
   "source": [
    "#import module\n",
    "from scipy.cluster.hierarchy import linkage\n",
    "import scipy.cluster.hierarchy as sch"
   ]
  },
  {
   "cell_type": "code",
   "execution_count": 17,
   "metadata": {},
   "outputs": [],
   "source": [
    "hier = linkage(norm_data, method=\"complete\",metric=\"euclidean\")"
   ]
  },
  {
   "cell_type": "code",
   "execution_count": 18,
   "metadata": {},
   "outputs": [
    {
     "data": {
      "image/png": "[encoded data removed]",
      "text/plain": [
       "<Figure size 720x360 with 1 Axes>"
      ]
     },
     "metadata": {
      "needs_background": "light"
     },
     "output_type": "display_data"
    }
   ],
   "source": [
    "plt.figure(figsize=(10, 5))\n",
    "plt.title('Hierarchical Clustering Dendrogram')\n",
    "plt.xlabel('Index')\n",
    "plt.ylabel('Distance')\n",
    "sch.dendrogram(hier,leaf_rotation=0.,leaf_font_size=8.)\n",
    "plt.show()\n",
    "# Leaf_rotation = rotates the x axis labels\n",
    "# Leaf_font_size = font size for the x axis labels"
   ]
  },
  {
   "cell_type": "code",
   "execution_count": 19,
   "metadata": {},
   "outputs": [],
   "source": [
    "#import agglomerative Clustering from sklearn\n",
    "from sklearn.cluster import AgglomerativeClustering"
   ]
  },
  {
   "cell_type": "code",
   "execution_count": 22,
   "metadata": {},
   "outputs": [],
   "source": [
    "h_comp = AgglomerativeClustering(n_clusters=3, linkage='complete',affinity = \"euclidean\").fit(norm_data) "
   ]
  },
  {
   "cell_type": "code",
   "execution_count": 23,
   "metadata": {},
   "outputs": [],
   "source": [
    "cluster_labels=pd.Series(h_comp.labels_)"
   ]
  },
  {
   "cell_type": "code",
   "execution_count": 25,
   "metadata": {},
   "outputs": [],
   "source": [
    "data['clust']=cluster_labels"
   ]
  },
  {
   "cell_type": "code",
   "execution_count": 26,
   "metadata": {},
   "outputs": [
    {
     "data": {
      "text/html": [
       "<div>\n",
       "<style scoped>\n",
       "    .dataframe tbody tr th:only-of-type {\n",
       "        vertical-align: middle;\n",
       "    }\n",
       "\n",
       "    .dataframe tbody tr th {\n",
       "        vertical-align: top;\n",
       "    }\n",
       "\n",
       "    .dataframe thead th {\n",
       "        text-align: right;\n",
       "    }\n",
       "</style>\n",
       "<table border=\"1\" class=\"dataframe\">\n",
       "  <thead>\n",
       "    <tr style=\"text-align: right;\">\n",
       "      <th></th>\n",
       "      <th>Assault</th>\n",
       "      <th>UrbanPop</th>\n",
       "      <th>Rape</th>\n",
       "      <th>clust</th>\n",
       "    </tr>\n",
       "    <tr>\n",
       "      <th>clust</th>\n",
       "      <th></th>\n",
       "      <th></th>\n",
       "      <th></th>\n",
       "      <th></th>\n",
       "    </tr>\n",
       "  </thead>\n",
       "  <tbody>\n",
       "    <tr>\n",
       "      <th>0</th>\n",
       "      <td>254.5</td>\n",
       "      <td>70.0</td>\n",
       "      <td>27.35</td>\n",
       "      <td>0</td>\n",
       "    </tr>\n",
       "    <tr>\n",
       "      <th>1</th>\n",
       "      <td>132.5</td>\n",
       "      <td>70.0</td>\n",
       "      <td>18.40</td>\n",
       "      <td>1</td>\n",
       "    </tr>\n",
       "    <tr>\n",
       "      <th>2</th>\n",
       "      <td>82.0</td>\n",
       "      <td>52.0</td>\n",
       "      <td>11.25</td>\n",
       "      <td>2</td>\n",
       "    </tr>\n",
       "  </tbody>\n",
       "</table>\n",
       "</div>"
      ],
      "text/plain": [
       "       Assault  UrbanPop   Rape  clust\n",
       "clust                                 \n",
       "0        254.5      70.0  27.35      0\n",
       "1        132.5      70.0  18.40      1\n",
       "2         82.0      52.0  11.25      2"
      ]
     },
     "execution_count": 26,
     "metadata": {},
     "output_type": "execute_result"
    }
   ],
   "source": [
    "# getting aggregate mean of each cluster\n",
    "cl1 = data.iloc[:,1:12].groupby(data.clust).median()\n",
    "cl1"
   ]
  },
  {
   "cell_type": "code",
   "execution_count": null,
   "metadata": {},
   "outputs": [],
   "source": []
  }
 ],
 "metadata": {
  "kernelspec": {
   "display_name": "Python 3",
   "language": "python",
   "name": "python3"
  },
  "language_info": {
   "codemirror_mode": {
    "name": "ipython",
    "version": 3
   },
   "file_extension": ".py",
   "mimetype": "text/x-python",
   "name": "python",
   "nbconvert_exporter": "python",
   "pygments_lexer": "ipython3",
   "version": "3.8.5"
  }
 },
 "nbformat": 4,
 "nbformat_minor": 4
}
